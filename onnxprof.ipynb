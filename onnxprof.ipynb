{
 "cells": [
  {
   "cell_type": "code",
   "execution_count": 1,
   "id": "7537ed53-c1c3-45d1-8243-4de3d18f586b",
   "metadata": {},
   "outputs": [],
   "source": [
    "import onnxruntime as rt\n",
    "import numpy as np\n",
    "import time"
   ]
  },
  {
   "cell_type": "code",
   "execution_count": 2,
   "id": "275716a5",
   "metadata": {},
   "outputs": [],
   "source": [
    "yolon_path = \"yolon_prep.onnx\""
   ]
  },
  {
   "cell_type": "code",
   "execution_count": 3,
   "id": "be931591",
   "metadata": {},
   "outputs": [],
   "source": [
    "random_image = np.random.rand(1, 3, 640, 640).astype(np.float32)"
   ]
  },
  {
   "cell_type": "code",
   "execution_count": 23,
   "id": "dfcd4125",
   "metadata": {},
   "outputs": [],
   "source": [
    "sess_options = rt.SessionOptions()\n",
    "sess_options.enable_profiling = True\n",
    "sess_options.intra_op_num_threads = 1"
   ]
  },
  {
   "cell_type": "code",
   "execution_count": 24,
   "id": "b46dd816",
   "metadata": {},
   "outputs": [],
   "source": [
    "session = rt.InferenceSession(yolon_path, providers=['CPUExecutionProvider'], sess_options=sess_options)"
   ]
  },
  {
   "cell_type": "code",
   "execution_count": 25,
   "id": "bcf50ded",
   "metadata": {},
   "outputs": [],
   "source": [
    "total = 0\n",
    "for i in range(0,100):\n",
    "    start = time.perf_counter()\n",
    "    predictions = session.run(None, {'images': random_image})\n",
    "    end = (time.perf_counter() - start) * 1000\n",
    "    total += end"
   ]
  },
  {
   "cell_type": "code",
   "execution_count": 26,
   "id": "d379db5e",
   "metadata": {},
   "outputs": [
    {
     "data": {
      "text/plain": [
       "115.42405959999996"
      ]
     },
     "execution_count": 26,
     "metadata": {},
     "output_type": "execute_result"
    }
   ],
   "source": [
    "total / 100"
   ]
  },
  {
   "cell_type": "code",
   "execution_count": 8,
   "id": "bbce0f06",
   "metadata": {},
   "outputs": [
    {
     "ename": "",
     "evalue": "",
     "output_type": "error",
     "traceback": [
      "\u001b[1;31mThe Kernel crashed while executing code in the current cell or a previous cell. \n",
      "\u001b[1;31mPlease review the code in the cell(s) to identify a possible cause of the failure. \n",
      "\u001b[1;31mClick <a href='https://aka.ms/vscodeJupyterKernelCrash'>here</a> for more info. \n",
      "\u001b[1;31mView Jupyter <a href='command:jupyter.viewOutput'>log</a> for further details."
     ]
    }
   ],
   "source": [
    "exit()"
   ]
  },
  {
   "cell_type": "code",
   "execution_count": null,
   "id": "f21dd7e6",
   "metadata": {},
   "outputs": [],
   "source": []
  }
 ],
 "metadata": {
  "kernelspec": {
   "display_name": "Python 3 (ipykernel)",
   "language": "python",
   "name": "python3"
  },
  "language_info": {
   "codemirror_mode": {
    "name": "ipython",
    "version": 3
   },
   "file_extension": ".py",
   "mimetype": "text/x-python",
   "name": "python",
   "nbconvert_exporter": "python",
   "pygments_lexer": "ipython3",
   "version": "3.10.14"
  }
 },
 "nbformat": 4,
 "nbformat_minor": 5
}

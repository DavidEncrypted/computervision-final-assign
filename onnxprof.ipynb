{
 "cells": [
  {
   "cell_type": "code",
   "execution_count": 10,
   "id": "7537ed53-c1c3-45d1-8243-4de3d18f586b",
   "metadata": {},
   "outputs": [],
   "source": [
    "import onnxruntime as rt\n",
    "import numpy as np\n",
    "import time"
   ]
  },
  {
   "cell_type": "code",
   "execution_count": 11,
   "id": "275716a5",
   "metadata": {},
   "outputs": [],
   "source": [
    "yolon_path = \"yolon_prep.onnx\""
   ]
  },
  {
   "cell_type": "code",
   "execution_count": 16,
   "id": "be931591",
   "metadata": {},
   "outputs": [],
   "source": [
    "random_image = np.random.rand(1, 3, 640, 640).astype(np.float32)"
   ]
  },
  {
   "cell_type": "code",
   "execution_count": 13,
   "id": "b46dd816",
   "metadata": {},
   "outputs": [],
   "source": [
    "session = rt.InferenceSession(yolon_path, providers=['CPUExecutionProvider'])"
   ]
  },
  {
   "cell_type": "code",
   "execution_count": 19,
   "id": "bcf50ded",
   "metadata": {},
   "outputs": [],
   "source": [
    "total = 0\n",
    "for i in range(0,100):\n",
    "    start = time.perf_counter()\n",
    "    predictions = session.run(None, {'images': random_image})\n",
    "    end = (time.perf_counter() - start) * 1000\n",
    "    total += end"
   ]
  },
  {
   "cell_type": "code",
   "execution_count": 20,
   "id": "d379db5e",
   "metadata": {},
   "outputs": [
    {
     "data": {
      "text/plain": [
       "60.14057067950489"
      ]
     },
     "execution_count": 20,
     "metadata": {},
     "output_type": "execute_result"
    }
   ],
   "source": [
    "total / 100"
   ]
  },
  {
   "cell_type": "code",
   "execution_count": null,
   "id": "bbce0f06",
   "metadata": {},
   "outputs": [],
   "source": []
  }
 ],
 "metadata": {
  "kernelspec": {
   "display_name": "Python 3 (ipykernel)",
   "language": "python",
   "name": "python3"
  },
  "language_info": {
   "codemirror_mode": {
    "name": "ipython",
    "version": 3
   },
   "file_extension": ".py",
   "mimetype": "text/x-python",
   "name": "python",
   "nbconvert_exporter": "python",
   "pygments_lexer": "ipython3",
   "version": "3.10.14"
  }
 },
 "nbformat": 4,
 "nbformat_minor": 5
}
